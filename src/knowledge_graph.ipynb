{
 "cells": [
  {
   "cell_type": "code",
   "execution_count": 1,
   "id": "b969a1f8",
   "metadata": {},
   "outputs": [],
   "source": [
    "import os\n",
    "import requests\n",
    "import re\n",
    "from dotenv import load_dotenv\n",
    "from tutor import KnowledgeGraph\n",
    "from langchain.embeddings import OpenAIEmbeddings\n",
    "from bs4 import BeautifulSoup\n",
    "from langchain_core.documents import Document\n",
    "from langchain_openai import ChatOpenAI"
   ]
  },
  {
   "cell_type": "code",
   "execution_count": 2,
   "id": "eefdc131",
   "metadata": {},
   "outputs": [],
   "source": [
    "load_dotenv()\n",
    "NEO_PASSWORD = os.getenv(\"NEO_PASSWORD\")\n",
    "NEO_URI = os.getenv(\"NEO_URI\")\n",
    "NEO_USERNAME = os.getenv(\"NEO_USERNAME\")"
   ]
  },
  {
   "cell_type": "code",
   "execution_count": 3,
   "id": "10ee9121",
   "metadata": {},
   "outputs": [
    {
     "name": "stderr",
     "output_type": "stream",
     "text": [
      "c:\\Users\\Kaden\\OneDrive\\Professional\\Athena\\Note Creation\\Knowledge Graph\\src\\tutor.py:74: LangChainDeprecationWarning: The class `Neo4jGraph` was deprecated in LangChain 0.3.8 and will be removed in 1.0. An updated version of the class exists in the :class:`~langchain-neo4j package and should be used instead. To use it run `pip install -U :class:`~langchain-neo4j` and import as `from :class:`~langchain_neo4j import Neo4jGraph``.\n",
      "  self.graph = Neo4jGraph(\n"
     ]
    }
   ],
   "source": [
    "knowledge_graph = KnowledgeGraph(NEO_URI, NEO_USERNAME, NEO_PASSWORD)"
   ]
  },
  {
   "cell_type": "code",
   "execution_count": 4,
   "id": "a6567cee",
   "metadata": {},
   "outputs": [],
   "source": [
    "def clean_text(text: str) -> str:\n",
    "    \"\"\"Remove extra new lines and whitespace\"\"\"\n",
    "    text = re.sub(r'\\n{2,}', '\\n', text)\n",
    "    return text.strip()\n",
    "\n",
    "def clean_link(text):\n",
    "    \"\"\"Get relative link\"\"\"\n",
    "    text = re.search(r\"[^./].*\", text).group(0)\n",
    "    return text"
   ]
  },
  {
   "cell_type": "code",
   "execution_count": 5,
   "id": "b8b121d8",
   "metadata": {},
   "outputs": [],
   "source": [
    "def scrape():\n",
    "    \"\"\"Web scrape Stat 20 lecture notes by retrieving content and next page links\"\"\"\n",
    "    rel_url = \"https://stat20.berkeley.edu/summer-2025/\"\n",
    "    url = \"https://stat20.berkeley.edu/summer-2025/1-questions-and-data/01-understanding-the-world/notes.html\" \n",
    "    content = \"lecture content\"\n",
    "    documents = []\n",
    "\n",
    "    # Iterate until there is no next page\n",
    "    while True:\n",
    "        response = requests.get(url)\n",
    "        html_content = response.content\n",
    "        soup = BeautifulSoup(html_content, \"html.parser\")\n",
    "        main = soup.find(\"main\", id = \"quarto-document-content\")\n",
    "        header = soup.find(\"header\", id =\"quarto-header\")\n",
    "\n",
    "        if main:  \n",
    "            content = clean_text(main.get_text())\n",
    "\n",
    "        if header:\n",
    "            title = header.find(\"h1\", class_ = \"quarto-secondary-nav-title no-breadcrumbs\").get_text()\n",
    "\n",
    "        if content:\n",
    "            documents.append(\n",
    "                Document(\n",
    "                    page_content = content,\n",
    "                    metadata = {\n",
    "                        \"url\": url,\n",
    "                        \"title\": title\n",
    "                    }\n",
    "                )\n",
    "            )\n",
    "\n",
    "        next_page = soup.find(\"div\", class_ = \"nav-page nav-page-next\")\n",
    "        if next_page:\n",
    "            next_href = next_page.find(\"a\", href = True)\n",
    "            if not next_href:\n",
    "                break\n",
    "            url = rel_url + clean_link(next_page.find(\"a\", href = True)[\"href\"])\n",
    "        else:\n",
    "            break\n",
    "        \n",
    "    return documents"
   ]
  },
  {
   "cell_type": "code",
   "execution_count": 6,
   "id": "31f728b9",
   "metadata": {},
   "outputs": [],
   "source": [
    "documents = scrape()"
   ]
  },
  {
   "cell_type": "code",
   "execution_count": 7,
   "id": "2aff2c2f",
   "metadata": {},
   "outputs": [],
   "source": [
    "llm = ChatOpenAI(\n",
    "    model=\"gpt-5\",\n",
    "    temperature=0,\n",
    "    max_tokens=None,\n",
    "    timeout=None,\n",
    "    max_retries=2,\n",
    ")"
   ]
  },
  {
   "cell_type": "code",
   "execution_count": null,
   "id": "b7b75f26",
   "metadata": {},
   "outputs": [],
   "source": [
    "knowledge_graph.build_graph(llm, documents[:5])\n",
    "knowledge_graph.create_fulltext_index()"
   ]
  },
  {
   "cell_type": "code",
   "execution_count": 8,
   "id": "8802af07",
   "metadata": {},
   "outputs": [
    {
     "name": "stderr",
     "output_type": "stream",
     "text": [
      "C:\\Users\\Kaden\\AppData\\Local\\Temp\\ipykernel_22800\\175282341.py:1: LangChainDeprecationWarning: The class `OpenAIEmbeddings` was deprecated in LangChain 0.0.9 and will be removed in 1.0. An updated version of the class exists in the :class:`~langchain-openai package and should be used instead. To use it run `pip install -U :class:`~langchain-openai` and import as `from :class:`~langchain_openai import OpenAIEmbeddings``.\n",
      "  embeddings = OpenAIEmbeddings()\n"
     ]
    }
   ],
   "source": [
    "embeddings = OpenAIEmbeddings()\n",
    "vector_index = knowledge_graph.create_vector_index(embeddings)\n",
    "entity_chain = knowledge_graph.create_entity_chain(llm)\n",
    "chain = knowledge_graph.query_chain(llm, vector_index, entity_chain)"
   ]
  },
  {
   "cell_type": "code",
   "execution_count": null,
   "id": "fcfa3758",
   "metadata": {},
   "outputs": [],
   "source": [
    "def conversation():\n",
    "    question = input(\"Ask a question about Stat 20 (type 'q' to exit): \")\n",
    "    print(f\"Question: {question}\")\n",
    "    if question.lower() != \"q\":\n",
    "        response = knowledge_graph.ask_query(llm, chain, question)\n",
    "        print(f\"Response: {response}\")\n",
    "        conversation()"
   ]
  },
  {
   "cell_type": "code",
   "execution_count": null,
   "id": "96cfa32a",
   "metadata": {},
   "outputs": [],
   "source": [
    "conversation()"
   ]
  }
 ],
 "metadata": {
  "kernelspec": {
   "display_name": "virtual_env (3.9.13)",
   "language": "python",
   "name": "python3"
  },
  "language_info": {
   "codemirror_mode": {
    "name": "ipython",
    "version": 3
   },
   "file_extension": ".py",
   "mimetype": "text/x-python",
   "name": "python",
   "nbconvert_exporter": "python",
   "pygments_lexer": "ipython3",
   "version": "3.9.13"
  }
 },
 "nbformat": 4,
 "nbformat_minor": 5
}
