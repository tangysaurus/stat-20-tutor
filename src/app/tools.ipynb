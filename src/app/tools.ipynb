{
 "cells": [
  {
   "cell_type": "code",
   "execution_count": 31,
   "id": "f81ad46f",
   "metadata": {},
   "outputs": [],
   "source": [
    "from langchain_community.utilities import WolframAlphaAPIWrapper\n",
    "from dotenv import load_dotenv\n",
    "import os\n",
    "import requests\n",
    "import xml.etree.ElementTree as ET\n",
    "\n",
    "APPID = os.getenv(\"WOLFRAM_ALPHA_APPID\")\n",
    "\n",
    "base_url = \"http://api.wolframalpha.com/v2/query\""
   ]
  },
  {
   "cell_type": "code",
   "execution_count": 40,
   "id": "d3a3dc1e",
   "metadata": {},
   "outputs": [
    {
     "name": "stdout",
     "output_type": "stream",
     "text": [
      "{'Input': 'e^x', 'Roots': '(no roots exist)', 'Properties as a real function': ['R (all real numbers)', '{y element R : y>0} (all positive real numbers)', 'injective (one-to-one)'], 'Periodicity': 'periodic in x with period 2 i π', 'Series expansion at x = 0': '1 + x + x^2/2 + x^3/6 + x^4/24 + O(x^5)\\n(Taylor series)', 'Derivative': 'd/dx(e^x) = e^x', 'Indefinite integral': 'integral e^x dx = e^x + constant', 'Limit': 'lim_(x->-∞) e^x = 0', 'Alternative representation': ['e^x = z^x for z = e', 'e^x = w^a for a = x/log(w)', 'e^x = 1 + 2/(-1 + coth(x/2))'], 'Series representation': ['e^x = sum_(k=0)^∞ x^k/(k!)', 'e^x = sum_(k=-∞)^∞ I_k(x)', 'e^x = sum_(k=0)^∞ (x^(-1 + 2 k) (2 k + x))/((2 k)!)'], 'Integral representation': '(1 + z)^a = ( integral_(-i ∞ + γ)^(i ∞ + γ) (Γ(s) Γ(-a - s))/z^s ds)/((2 π i) Γ(-a)) for (0<γ<-Re(a) and abs(arg(z))<π)', 'Definite integral': 'integral_(-∞)^0 e^x dx = 1', 'Definite integral over a half-period': 'integral_0^(i π) e^x dx = -2'}\n"
     ]
    }
   ],
   "source": [
    "def wolfram_query_structured(query: str) -> dict:\n",
    "    params = {\n",
    "        \"input\": query, \n",
    "        \"appid\": APPID, \n",
    "        \"format\": \"plaintext\"\n",
    "    }\n",
    "\n",
    "    resp = requests.get(base_url, params=params)\n",
    "    resp.raise_for_status()\n",
    "\n",
    "    root = ET.fromstring(resp.text)\n",
    "    results = {}\n",
    "    for pod in root.findall(\".//pod\"):\n",
    "        title = pod.attrib.get(\"title\")\n",
    "        subpods = []\n",
    "        for sub in pod.findall(\"subpod\"):\n",
    "            plain = sub.find(\"plaintext\")\n",
    "            if plain is not None and plain.text:\n",
    "                subpods.append(plain.text.strip())\n",
    "        if subpods:\n",
    "            results[title] = subpods if len(subpods) > 1 else subpods[0]\n",
    "    return results\n",
    "\n",
    "print(wolfram_query_structured(\"What is e^x?\"))\n"
   ]
  }
 ],
 "metadata": {
  "kernelspec": {
   "display_name": "virtual_env (3.9.13)",
   "language": "python",
   "name": "python3"
  },
  "language_info": {
   "codemirror_mode": {
    "name": "ipython",
    "version": 3
   },
   "file_extension": ".py",
   "mimetype": "text/x-python",
   "name": "python",
   "nbconvert_exporter": "python",
   "pygments_lexer": "ipython3",
   "version": "3.9.13"
  }
 },
 "nbformat": 4,
 "nbformat_minor": 5
}
