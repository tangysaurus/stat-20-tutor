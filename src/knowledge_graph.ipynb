{
 "cells": [
  {
   "cell_type": "code",
   "execution_count": 2,
   "id": "b969a1f8",
   "metadata": {},
   "outputs": [],
   "source": [
    "from langchain_community.graphs import Neo4jGraph\n",
    "import os\n",
    "from dotenv import load_dotenv\n",
    "from langchain.chat_models import init_chat_model\n",
    "from langchain_experimental.graph_transformers import LLMGraphTransformer\n",
    "from langchain_core.prompts import ChatPromptTemplate\n",
    "\n",
    "load_dotenv()\n",
    "NEO_PASSWORD = os.getenv(\"NEO_PASSWORD\")"
   ]
  },
  {
   "cell_type": "code",
   "execution_count": 3,
   "id": "22ed8455",
   "metadata": {},
   "outputs": [
    {
     "name": "stderr",
     "output_type": "stream",
     "text": [
      "C:\\Users\\Kaden\\AppData\\Local\\Temp\\ipykernel_20720\\2100271186.py:2: LangChainDeprecationWarning: The class `Neo4jGraph` was deprecated in LangChain 0.3.8 and will be removed in 1.0. An updated version of the class exists in the :class:`~langchain-neo4j package and should be used instead. To use it run `pip install -U :class:`~langchain-neo4j` and import as `from :class:`~langchain_neo4j import Neo4jGraph``.\n",
      "  graph = Neo4jGraph(\n"
     ]
    }
   ],
   "source": [
    "# Initialize knowledge graph database\n",
    "graph = Neo4jGraph(\n",
    "    url = \"neo4j+s://841b6bc1.databases.neo4j.io\",\n",
    "    username = \"neo4j\",\n",
    "    password = NEO_PASSWORD,\n",
    "    refresh_schema = False\n",
    ")"
   ]
  },
  {
   "cell_type": "code",
   "execution_count": null,
   "id": "a6567cee",
   "metadata": {},
   "outputs": [],
   "source": [
    "import re\n",
    "\n",
    "def clean_text(text: str) -> str:\n",
    "    \"\"\"Remove extra new lines and whitespace\"\"\"\n",
    "    text = re.sub(r'\\n{2,}', '\\n', text)\n",
    "    return text.strip()\n",
    "\n",
    "def clean_link(text):\n",
    "    \"\"\"Get relative link\"\"\"\n",
    "    text = re.search(r\"[^./].*\", text).group(0)\n",
    "    return text"
   ]
  },
  {
   "cell_type": "code",
   "execution_count": 28,
   "id": "b8b121d8",
   "metadata": {},
   "outputs": [],
   "source": [
    "import requests\n",
    "from bs4 import BeautifulSoup\n",
    "from langchain_core.documents import Document\n",
    "\n",
    "def scrape():\n",
    "    \"\"\"Web scrape Stat 20 lecture notes by retrieving content and next page links\"\"\"\n",
    "    rel_url = \"https://stat20.berkeley.edu/summer-2025/\"\n",
    "    url = \"https://stat20.berkeley.edu/summer-2025/1-questions-and-data/01-understanding-the-world/notes.html\" \n",
    "    content = \"lecture content\"\n",
    "    documents = []\n",
    "\n",
    "    # Iterate until there is no next page\n",
    "    while True:\n",
    "        response = requests.get(url)\n",
    "        html_content = response.content\n",
    "        soup = BeautifulSoup(html_content, \"html.parser\")\n",
    "        main = soup.find(\"main\", id = \"quarto-document-content\")\n",
    "        header = soup.find(\"header\", id =\"quarto-header\")\n",
    "\n",
    "        if main:  \n",
    "            content = clean_text(main.get_text())\n",
    "\n",
    "        if header:\n",
    "            title = header.find(\"h1\", class_ = \"quarto-secondary-nav-title no-breadcrumbs\").get_text()\n",
    "\n",
    "        if content:\n",
    "            documents.append(\n",
    "                Document(\n",
    "                    page_content = content,\n",
    "                    metadata = {\n",
    "                        \"url\": url,\n",
    "                        \"title\": title\n",
    "                    }\n",
    "                )\n",
    "            )\n",
    "\n",
    "        next_page = soup.find(\"div\", class_ = \"nav-page nav-page-next\")\n",
    "        if next_page:\n",
    "            url = rel_url + clean_link(next_page.find(\"a\", href = True)[\"href\"])\n",
    "        else:\n",
    "            break\n",
    "        \n",
    "    return documents"
   ]
  },
  {
   "cell_type": "code",
   "execution_count": 7,
   "id": "163ff939",
   "metadata": {},
   "outputs": [],
   "source": [
    "# Define system prompt\n",
    "system_prompt = (\n",
    "    \"# Knowledge Graph Instructions for GPT-4\\n\"\n",
    "    \"## 1. Overview\\n\"\n",
    "    \"You are a top-tier algorithm designed for extracting information in structured \"\n",
    "    \"formats to build a knowledge graph for an educational learning platform.\\n\"\n",
    "    \"Try to capture as much information from the text as possible without \"\n",
    "    \"sacrificing accuracy. Do not add any information that is not explicitly \"\n",
    "    \"mentioned in the text.\\n\"\n",
    "    \"- **Nodes** represent entities and concepts.\\n\"\n",
    "    \"- The aim is to achieve simplicity and clarity in the knowledge graph, making it\\n\"\n",
    "    \"helpful for a student who is reviewing for an exam.\\n\"\n",
    "    \"## 2. Labeling Nodes\\n\"\n",
    "    \"- **Consistency**: Ensure you use available types for node labels.\\n\"\n",
    "    \"Ensure you use basic or elementary types for node labels.\\n\"\n",
    "    \"- For example, when you identify an entity representing a person, \"\n",
    "    \"always label it as **'person'**. Avoid using more specific terms \"\n",
    "    \"like 'mathematician' or 'scientist'.\"\n",
    "    \"- **Node IDs**: Never utilize integers as node IDs. Node IDs should be \"\n",
    "    \"names or human-readable identifiers found in the text.\\n\"\n",
    "    \"- **Relationships** represent connections between entities or concepts.\\n\"\n",
    "    \"Ensure consistency and generality in relationship types when constructing \"\n",
    "    \"knowledge graphs. Instead of using specific and momentary types \"\n",
    "    \"such as 'BECAME_PROFESSOR', use more general and timeless relationship types \"\n",
    "    \"like 'PROFESSOR'. Make sure to use general and timeless relationship types!\\n\"\n",
    "    \"## 3. Coreference Resolution\\n\"\n",
    "    \"- **Maintain Entity Consistency**: When extracting entities, it's vital to \"\n",
    "    \"ensure consistency.\\n\"\n",
    "    'If an entity, such as \"John Doe\", is mentioned multiple times in the text '\n",
    "    'but is referred to by different names or pronouns (e.g., \"Joe\", \"he\"),'\n",
    "    \"always use the most complete identifier for that entity throughout the \"\n",
    "    'knowledge graph. In this example, use \"John Doe\" as the entity ID.\\n'\n",
    "    \"Remember, the knowledge graph should be coherent and easily understandable, \"\n",
    "    \"so maintaining consistency in entity references is crucial.\\n\"\n",
    "    \"## 4. Strict Compliance\\n\"\n",
    "    \"Adhere to the rules strictly. Non-compliance will result in termination.\"\n",
    ")"
   ]
  },
  {
   "cell_type": "code",
   "execution_count": null,
   "id": "25cb0569",
   "metadata": {},
   "outputs": [],
   "source": [
    "def get_prompt(subject: str = \"\") -> ChatPromptTemplate:\n",
    "    \"\"\"Define prompt template based on subject and user input\"\"\"\n",
    "    return ChatPromptTemplate.from_messages(\n",
    "        [\n",
    "            (\"system\", system_prompt),\n",
    "            (\n",
    "                \"human\",\n",
    "                \"Ensure that the entities and concepts extracted are relevant material with respect to the following subject: \" + subject + \". They should not be teachers, course names, or syllabus\"\n",
    "                \"Tip: Make sure to answer in the correct format and do \"\n",
    "                \"not include any explanations. \"\n",
    "                \"Use the given format to extract information from the \"\n",
    "                \"following input: {input}\"\n",
    "            )\n",
    "        ]\n",
    "    )"
   ]
  },
  {
   "cell_type": "code",
   "execution_count": 15,
   "id": "8da1ccb6",
   "metadata": {},
   "outputs": [],
   "source": [
    "# Initialize llm and knowledge graph database\n",
    "llm = init_chat_model(\"gpt-4o-mini\", model_provider = \"openai\")\n",
    "llm_transformer = LLMGraphTransformer(\n",
    "    llm = llm, \n",
    "    allowed_nodes = [\"MathObject, MathTheorem\", \"MathConcept\"],\n",
    "    allowed_relationships = [\"Prerequisite\", \"Inclusion\"],\n",
    "    node_properties = [\"definition\"],\n",
    "    prompt = get_prompt(\"statistics\")\n",
    ")"
   ]
  },
  {
   "cell_type": "code",
   "execution_count": 31,
   "id": "d7b2f577",
   "metadata": {},
   "outputs": [
    {
     "name": "stdout",
     "output_type": "stream",
     "text": [
      "Nodes:[Node(id='Stat 20', type='Mathconcept', properties={}), Node(id='Summary', type='Mathconcept', properties={}), Node(id='Generalization', type='Mathconcept', properties={}), Node(id='Causal Claim', type='Mathconcept', properties={}), Node(id='Prediction', type='Mathconcept', properties={}), Node(id='Proportion Of Respondents', type='Mathobject, maththeorem', properties={'definition': \"Prediction about Uber's stock price going up 1.2% tomorrow.\"})]\n",
      "Relationships:[Relationship(source=Node(id='Stat 20', type='Mathconcept', properties={}), target=Node(id='Summary', type='Mathconcept', properties={}), type='INCLUSION', properties={}), Relationship(source=Node(id='Stat 20', type='Mathconcept', properties={}), target=Node(id='Generalization', type='Mathconcept', properties={}), type='INCLUSION', properties={}), Relationship(source=Node(id='Stat 20', type='Mathconcept', properties={}), target=Node(id='Causal Claim', type='Mathconcept', properties={}), type='INCLUSION', properties={}), Relationship(source=Node(id='Stat 20', type='Mathconcept', properties={}), target=Node(id='Prediction', type='Mathconcept', properties={}), type='INCLUSION', properties={}), Relationship(source=Node(id='Summary', type='Mathconcept', properties={}), target=Node(id='Proportion Of Respondents', type='Mathobject, maththeorem', properties={}), type='PREREQUISITE', properties={}), Relationship(source=Node(id='Generalization', type='Mathconcept', properties={}), target=Node(id='Proportion Of Respondents', type='Mathobject, maththeorem', properties={}), type='PREREQUISITE', properties={}), Relationship(source=Node(id='Causal Claim', type='Mathconcept', properties={}), target=Node(id='Proportion Of Respondents', type='Mathobject, maththeorem', properties={}), type='PREREQUISITE', properties={}), Relationship(source=Node(id='Prediction', type='Mathconcept', properties={}), target=Node(id='Proportion Of Respondents', type='Mathobject, maththeorem', properties={}), type='PREREQUISITE', properties={})]\n"
     ]
    }
   ],
   "source": [
    "# Retrieve nodes and relationships from documents\n",
    "documents = scrape()\n",
    "graph_documents = await llm_transformer.aconvert_to_graph_documents(documents)\n",
    "print(f\"Nodes:{graph_documents[0].nodes}\")\n",
    "print(f\"Relationships:{graph_documents[0].relationships}\")"
   ]
  },
  {
   "cell_type": "code",
   "execution_count": null,
   "id": "813ae497",
   "metadata": {},
   "outputs": [],
   "source": [
    "# Delete existing nodes and relationships\n",
    "graph.query(\"MATCH (n) DETACH DELETE n\")"
   ]
  },
  {
   "cell_type": "code",
   "execution_count": null,
   "id": "95096944",
   "metadata": {},
   "outputs": [],
   "source": [
    "# Add documents to graph database, including document source\n",
    "graph.add_graph_documents(graph_documents, include_source = True, baseEntityLabel = False)"
   ]
  },
  {
   "cell_type": "code",
   "execution_count": null,
   "id": "b2a48b3a",
   "metadata": {},
   "outputs": [],
   "source": [
    "# Question 1: How to capture relationships between different documents?\n",
    "# Question 2: How to define schema to fit educational context?"
   ]
  }
 ],
 "metadata": {
  "kernelspec": {
   "display_name": "virtual_env (3.9.13)",
   "language": "python",
   "name": "python3"
  },
  "language_info": {
   "codemirror_mode": {
    "name": "ipython",
    "version": 3
   },
   "file_extension": ".py",
   "mimetype": "text/x-python",
   "name": "python",
   "nbconvert_exporter": "python",
   "pygments_lexer": "ipython3",
   "version": "3.9.13"
  }
 },
 "nbformat": 4,
 "nbformat_minor": 5
}
