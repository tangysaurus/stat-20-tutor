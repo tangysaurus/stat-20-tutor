{
 "cells": [
  {
   "cell_type": "code",
   "execution_count": null,
   "id": "9be6ebbc",
   "metadata": {},
   "outputs": [
    {
     "name": "stderr",
     "output_type": "stream",
     "text": [
      "c:\\Users\\Kaden\\OneDrive\\Professional\\Athena\\Note Creation\\RAG\\virtual_env\\lib\\site-packages\\tqdm\\auto.py:21: TqdmWarning: IProgress not found. Please update jupyter and ipywidgets. See https://ipywidgets.readthedocs.io/en/stable/user_install.html\n",
      "  from .autonotebook import tqdm as notebook_tqdm\n"
     ]
    }
   ],
   "source": [
    "from dotenv import load_dotenv\n",
    "from src.create_kb import create_kb_from_file\n",
    "from langchain.chat_models import init_chat_model\n",
    "from langgraph.graph import START, StateGraph\n",
    "from typing_extensions import TypedDict\n",
    "\n",
    "llm = init_chat_model(\"gpt-4o-mini\", model_provider=\"openai\")"
   ]
  },
  {
   "cell_type": "code",
   "execution_count": 2,
   "id": "e5401531",
   "metadata": {},
   "outputs": [
    {
     "name": "stdout",
     "output_type": "stream",
     "text": [
      "Creating KB with id transcript...\n"
     ]
    }
   ],
   "source": [
    "load_dotenv()\n",
    "# create knowledge base from transcript\n",
    "file_path = \"transcript.txt\"\n",
    "kb_id = \"transcript\"\n",
    "kb = create_kb_from_file(kb_id, file_path)"
   ]
  },
  {
   "cell_type": "code",
   "execution_count": 3,
   "id": "e1cdeb49",
   "metadata": {},
   "outputs": [],
   "source": [
    "# prompt\n",
    "from langchain import hub\n",
    "prompt = hub.pull(\"rlm/rag-prompt\")"
   ]
  },
  {
   "cell_type": "code",
   "execution_count": 4,
   "id": "8c82dbfc",
   "metadata": {},
   "outputs": [],
   "source": [
    "# Define state for application\n",
    "class State(TypedDict):\n",
    "    question: str\n",
    "    context: list[dict]\n",
    "    answer: str"
   ]
  },
  {
   "cell_type": "code",
   "execution_count": 5,
   "id": "e75d8ced",
   "metadata": {},
   "outputs": [],
   "source": [
    "# Define application steps\n",
    "def retrieve(state: State):\n",
    "    search_queries = [state[\"question\"]]\n",
    "    retrieved_docs = kb.query(search_queries)\n",
    "    return {\"context\": retrieved_docs}\n",
    "\n",
    "def generate(state: State):\n",
    "    docs_content = \"\\n\\n\".join(doc[\"content\"] for doc in state[\"context\"])\n",
    "    messages = prompt.invoke({\"question\": state[\"question\"], \"context\": docs_content})\n",
    "    response = llm.invoke(messages)\n",
    "    return {\"answer\": response.content}"
   ]
  },
  {
   "cell_type": "code",
   "execution_count": 6,
   "id": "21248687",
   "metadata": {},
   "outputs": [],
   "source": [
    "# Compile application and test\n",
    "graph_builder = StateGraph(State).add_sequence([retrieve, generate])\n",
    "graph_builder.add_edge(START, \"retrieve\")\n",
    "graph = graph_builder.compile()"
   ]
  },
  {
   "cell_type": "code",
   "execution_count": 12,
   "id": "9672e1dc",
   "metadata": {},
   "outputs": [
    {
     "name": "stdout",
     "output_type": "stream",
     "text": [
      "To understand probability, you can refer to the document titled 'Introducing Probability,' which covers the fundamentals of probability theory, including definitions, axioms, and examples. Additionally, Peter Backus's entertaining paper on estimating dating probabilities provides a practical perspective on applying probabilistic arguments. For further exploration, you might also consider simulations and historical examples like De Méré’s Paradox discussed within the same document.\n"
     ]
    }
   ],
   "source": [
    "response = graph.invoke({\"question\": \"What are some papers to understand probability?\"})\n",
    "print(response[\"answer\"])"
   ]
  }
 ],
 "metadata": {
  "kernelspec": {
   "display_name": "virtual_env",
   "language": "python",
   "name": "python3"
  },
  "language_info": {
   "codemirror_mode": {
    "name": "ipython",
    "version": 3
   },
   "file_extension": ".py",
   "mimetype": "text/x-python",
   "name": "python",
   "nbconvert_exporter": "python",
   "pygments_lexer": "ipython3",
   "version": "3.9.13"
  }
 },
 "nbformat": 4,
 "nbformat_minor": 5
}
