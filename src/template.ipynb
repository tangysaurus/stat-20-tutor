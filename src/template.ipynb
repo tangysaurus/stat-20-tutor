{
 "cells": [
  {
   "cell_type": "code",
   "execution_count": 4,
   "id": "9be6ebbc",
   "metadata": {},
   "outputs": [],
   "source": [
    "from dotenv import load_dotenv\n",
    "import os\n",
    "from create_kb import create_kb_from_file\n",
    "from langchain.chat_models import init_chat_model\n",
    "from langgraph.graph import START, StateGraph\n",
    "from typing_extensions import TypedDict\n",
    "from dsrag.knowledge_base import KnowledgeBase\n",
    "\n",
    "llm = init_chat_model(\"gpt-4o-mini\", model_provider=\"openai\")"
   ]
  },
  {
   "cell_type": "code",
   "execution_count": 5,
   "id": "e5401531",
   "metadata": {},
   "outputs": [
    {
     "data": {
      "text/plain": [
       "True"
      ]
     },
     "execution_count": 5,
     "metadata": {},
     "output_type": "execute_result"
    }
   ],
   "source": [
    "load_dotenv()"
   ]
  },
  {
   "cell_type": "code",
   "execution_count": 6,
   "id": "e1cdeb49",
   "metadata": {},
   "outputs": [],
   "source": [
    "# prompt\n",
    "from langchain import hub\n",
    "prompt = hub.pull(\"rlm/rag-prompt\")"
   ]
  },
  {
   "cell_type": "code",
   "execution_count": 7,
   "id": "8c82dbfc",
   "metadata": {},
   "outputs": [],
   "source": [
    "# Define state for application\n",
    "class State(TypedDict):\n",
    "    kb: KnowledgeBase\n",
    "    question: str\n",
    "    context: list[dict]\n",
    "    answer: str"
   ]
  },
  {
   "cell_type": "code",
   "execution_count": 8,
   "id": "e75d8ced",
   "metadata": {},
   "outputs": [],
   "source": [
    "# Define application steps\n",
    "def retrieve(state: State):\n",
    "    search_queries = [state[\"question\"]]\n",
    "    retrieved_docs = state[\"kb\"].query(search_queries)\n",
    "    return {\"context\": retrieved_docs}\n",
    "\n",
    "def generate(state: State):\n",
    "    docs_content = \"\\n\\n\".join(doc[\"content\"] for doc in state[\"context\"])\n",
    "    messages = prompt.invoke({\"question\": state[\"question\"], \"context\": docs_content})\n",
    "    response = llm.invoke(messages)\n",
    "    return {\"answer\": response.content}"
   ]
  },
  {
   "cell_type": "code",
   "execution_count": 9,
   "id": "21248687",
   "metadata": {},
   "outputs": [],
   "source": [
    "# Compile application and test\n",
    "graph_builder = StateGraph(State).add_sequence([retrieve, generate])\n",
    "graph_builder.add_edge(START, \"retrieve\")\n",
    "graph = graph_builder.compile()"
   ]
  },
  {
   "cell_type": "markdown",
   "id": "7c024c40",
   "metadata": {},
   "source": [
    "### Stress test"
   ]
  },
  {
   "cell_type": "code",
   "execution_count": 10,
   "id": "aa6e258d",
   "metadata": {},
   "outputs": [],
   "source": [
    "transcripts = [\n",
    "    \"cs168.txt\", \"econ136.txt\", \"mcb130.txt\", \"music139.txt\", \n",
    "    \"philosophy25b.txt\", \"physics7a.txt\", \"stat20.txt\"\n",
    "]\n",
    "transcript_to_queries = {}"
   ]
  },
  {
   "cell_type": "code",
   "execution_count": 11,
   "id": "4bab8a77",
   "metadata": {},
   "outputs": [],
   "source": [
    "SYSTEM_MESSAGE = \"\"\"\n",
    "You are a query generation system. Please generate one or more search queries (up to a maximum of {max_queries}) that can be answered based on the provided section title and content. DO NOT generate the answer, just queries.\n",
    "\n",
    "Each of the queries you generate will be used to search a knowledge base for information that can be used to respond to the user input. Make sure each query is specific enough to return relevant information. If multiple pieces of information would be useful, you should generate multiple queries, one for each specific piece of information needed.\n",
    "\n",
    "Return a list of queries formatted as follows: [query1, query2]\n",
    "\n",
    "Example output: [\"Who is Napoleon?\", \"Where did Napoleon conquer?\"]\n",
    "\"\"\".strip()\n",
    "\n",
    "from langchain_core.prompts import (\n",
    "    ChatPromptTemplate,\n",
    "    SystemMessagePromptTemplate,\n",
    "    HumanMessagePromptTemplate\n",
    ")\n",
    "\n",
    "prompt_template = ChatPromptTemplate.from_messages([\n",
    "    SystemMessagePromptTemplate.from_template(\n",
    "        SYSTEM_MESSAGE\n",
    "    ),\n",
    "    HumanMessagePromptTemplate.from_template(\n",
    "        \"\"\"\n",
    "        Section title: {section_title}\n",
    "        Section content: {section_content}\n",
    "        \"\"\"\n",
    "    ),\n",
    "])\n",
    "\n",
    "from dsrag.dsparse.sectioning_and_chunking.semantic_sectioning import get_sections_from_str\n",
    "import ast\n",
    "# generate important queries for a section\n",
    "def gen_queries(title: str, content: str, max_queries: int = 3) -> list[str]:\n",
    "    # a) Fill in the template\n",
    "    prompt_value = prompt_template.format_prompt(\n",
    "        section_title = title,\n",
    "        section_content = content,\n",
    "        max_queries = max_queries\n",
    "    )\n",
    "    # b) Turn that into LangChain messages\n",
    "    messages = prompt_value.to_messages()\n",
    "    # c) Ask the model\n",
    "    resp = llm(messages)            #\n",
    "    text = resp.content            \n",
    "    # d) Split into lines (or use your own parser if e.g. you return JSON)\n",
    "    return ast.literal_eval(text)"
   ]
  },
  {
   "cell_type": "code",
   "execution_count": null,
   "id": "94b643c6",
   "metadata": {},
   "outputs": [],
   "source": [
    "# your raw text:\n",
    "for transcript in transcripts:\n",
    "    with open(transcript, encoding = \"utf-8-sig\") as f:\n",
    "        raw = f.read()\n",
    "\n",
    "    sections, lines = get_sections_from_str(\n",
    "        document=raw,\n",
    "        max_characters_per_window=20000,   # how large each LLM window is\n",
    "        semantic_sectioning_config={\n",
    "            \"use_semantic_sectioning\": True,\n",
    "            \"llm_provider\": \"openai\",\n",
    "            \"model\": \"gpt-4o-mini\",\n",
    "            \"language\": \"en\",\n",
    "        },\n",
    "        chunking_config={},\n",
    "        kb_id=\"my_kb\",\n",
    "        doc_id=\"my_doc\",\n",
    "    )\n",
    "\n",
    "    queries = []\n",
    "    for section in sections:\n",
    "        queries.extend(gen_queries(section[\"title\"], section[\"content\"]))\n",
    "    transcript_to_queries[transcript] = queries"
   ]
  },
  {
   "cell_type": "code",
   "execution_count": 39,
   "id": "ed62bd59",
   "metadata": {},
   "outputs": [],
   "source": [
    "# generate a response for each query\n",
    "def gen_responses(transcript_index: int, sample: list[str]):\n",
    "    queries_and_responses = {}\n",
    "    for query in sample:\n",
    "        response = graph.invoke({\n",
    "            \"question\": query,\n",
    "            \"kb\": kbs[transcript_index]\n",
    "        })\n",
    "        queries_and_responses[query] = response[\"answer\"]\n",
    "    return queries_and_responses"
   ]
  },
  {
   "cell_type": "code",
   "execution_count": 41,
   "id": "9ffb3129",
   "metadata": {},
   "outputs": [],
   "source": [
    "import random\n",
    "def gen_sample(transcript: str, n: int = 10):\n",
    "    return random.sample(transcript_to_queries[transcript], n)"
   ]
  },
  {
   "cell_type": "code",
   "execution_count": 43,
   "id": "8bfc3d53",
   "metadata": {},
   "outputs": [
    {
     "name": "stdout",
     "output_type": "stream",
     "text": [
      "Creating KB with id cs168...\n",
      "Creating KB with id econ136...\n",
      "Creating KB with id mcb130...\n",
      "Creating KB with id music139...\n",
      "Creating KB with id philosophy25b...\n",
      "Creating KB with id physics7a...\n",
      "Creating KB with id stat20...\n"
     ]
    }
   ],
   "source": [
    "# create knowledge base from transcript\n",
    "kbs = []\n",
    "samples = {}\n",
    "for transcript in transcripts:\n",
    "    kbs.append(create_kb_from_file(transcript[:-4], transcript))\n",
    "    samples[transcript] = gen_sample(transcript)\n",
    "\n",
    "responses = []\n",
    "for i in range(len(samples)):\n",
    "    res = gen_responses(i, samples[transcripts[i]])\n",
    "    responses.append(res)"
   ]
  },
  {
   "cell_type": "code",
   "execution_count": 44,
   "id": "b3988854",
   "metadata": {},
   "outputs": [
    {
     "data": {
      "text/plain": [
       "[{'How are optical fibers laid underwater?': 'Optical fibers are laid underwater using specialized cable-laying ships that carefully deploy the cables along the seabed. The process involves surveying the seabed to select the optimal route and then laying the fiber optic cables in controlled sections. Additionally, the cables are often buried in the seabed to protect them from environmental conditions and potential damage.',\n",
       "  'What are loops in network routing?': 'Loops in network routing refer to situations where a packet continuously cycles through the same set of nodes without reaching its intended destination. This occurs when routers are unable to forward the packet to its destination due to a lack of appropriate paths, leading to the packet repeatedly returning to the same routers. To maintain valid routing, it is essential to eliminate such loops, as they prevent successful delivery of packets.',\n",
       "  'How do participants determine their magic number in the experiment?': 'Participants determine their magic number by starting with an initial value of infinity. They accept lower numbers offered by neighbors and then pass on their new number plus one to others. This process continues until the experiment terminates.',\n",
       "  'What is the role of routers in managing network bandwidth?': 'Routers manage network bandwidth by acting as intermediate nodes that direct traffic between multiple networks and end hosts. They aggregate connections, allowing multiple hosts to communicate simultaneously without the limitations of a single shared link. Additionally, routers can reroute traffic in case of link failures, enhancing network resilience and bandwidth utilization.',\n",
       "  'What is the role of a router?': 'The role of a router is to act as an intermediate node in a network that determines the best path for data packets to travel from a source host to a destination host. Routers accomplish this by analyzing the destination address metadata in incoming packets and using routing tables to forward these packets to the appropriate next hop. This process is essential for efficient network communication and scalability, avoiding the impracticalities of connecting every device directly to each other.',\n",
       "  'What components are involved in optical networking cables?': 'Optical networking cables typically include core fibers made of glass or plastic that transmit light signals, protective buffer layers to shield the fibers, and an outer jacket that provides environmental protection. Additionally, various connectors and splices may be included for linking fibers and ensuring signal integrity. These components work together to facilitate high-speed data transmission over long distances.',\n",
       "  'Why might a host have more than one address?': 'A host may have more than one address due to having multiple network interfaces or ports, each providing a different address. Additionally, a host can be connected to multiple networks, such as Wi-Fi and cellular, requiring distinct addresses for each connection. Other factors, like redundancy, can also contribute to a host having multiple addresses.',\n",
       "  'How does network topology affect routing decisions?': 'Network topology significantly influences routing decisions by determining how nodes are interconnected and the paths available for data to traverse the network. Different topologies, such as meshy or structured layouts, may require distinct routing strategies to effectively manage bandwidth and connectivity. Additionally, as topologies can change dynamically—due to factors like customer additions or link failures—routing systems must adapt accordingly to maintain efficiency.',\n",
       "  'How does the concept of routing differ from other interpretations like woodworking?': 'Routing, in the context of computer networking, refers to the process of selecting paths in a network for data transmission, which is distinctly different from woodworking. In woodworking, routing involves shaping or cutting wood with a router tool to create designs or joints. The two concepts share the term \"routing,\" but they apply to completely different fields and functions.',\n",
       "  'What happens if someone gives you an envelope in a number sharing activity?': 'If someone gives you an envelope in a number sharing activity, you need to pass it to your best friend. If your best friend gives you an envelope, they might be confused, but ideally, they should not be the source of further confusion. The aim is to ensure that the envelope reaches the intended recipient based on the numbers assigned.'},\n",
       " {'How does type two arbitrage work?': 'Type two arbitrage works by allowing an investor to set up a position at no initial cost and with zero probability of losing money, while having a positive chance of making a profit in the future. For example, an investor could borrow funds to purchase an asset and potentially sell it later for a higher price, effectively making a profit without any upfront investment. The key aspect is that the strategy provides a safety net, ensuring that the investor either breaks even or achieves a profit.',\n",
       "  'How do you create a zero cost portfolio?': 'To create a zero cost portfolio, you can short one asset while simultaneously going long on a combination of other assets whose total costs offset the short position. For instance, by selling one share of Asset two and purchasing multiple shares of Asset one and Asset three, you can set up a structure where the net payoff is zero or positive while incurring no costs. This strategy allows for potential profits without any risk of loss.',\n",
       "  'What is a risk-free asset and how is it defined?': 'A risk-free asset is defined as an asset that has a guaranteed return with no uncertainty, meaning it provides the same payoff in every possible state. For example, if an asset consistently offers a return of 1% regardless of market conditions, it is considered risk-free. Such assets are typically associated with government securities.',\n",
       "  'What is type two arbitrage?': 'Type two arbitrage refers to a trading strategy where an investor sets up a position with no initial cost and has a strictly positive probability of making money in the future, while having zero probability of losing money. This differs from type one arbitrage, which involves making money today with no chance of future losses. Essentially, type two arbitrage allows for potential future profits without incurring immediate financial risk.',\n",
       "  'How can one exploit arbitrage opportunities in multiple assets?': 'To exploit arbitrage opportunities in multiple assets, one can engage in type one or type two arbitrage by analyzing the price differences and potential payoffs of the assets. In type one arbitrage, an investor might match state-contingent payoffs using multiple assets to capitalize on pricing discrepancies. Conversely, type two arbitrage may involve borrowing to create a portfolio that has zero initial cost and a chance of positive future profits without risk of loss.',\n",
       "  'How do you identify state contingent payoffs for assets?': 'State contingent payoffs for assets can be identified by analyzing the potential outcomes associated with these assets under different states of the world. You evaluate the payoffs for each asset in each state and look for discrepancies in pricing between assets with similar payoffs, which could indicate an arbitrage opportunity. This involves checking if the ratio of payoffs aligns with the ratio of prices, thereby revealing potential arbitrage strategies based on the identified state contingent payout vectors.',\n",
       "  'What is a type one arbitrage?': 'Type one arbitrage refers to a financial opportunity where an investor can receive money today without any possibility of losing money in the future. It typically involves a scenario where an asset can be sold for a profit immediately, ensuring a guaranteed return. For example, if you buy a box of pencils for $1 and sell the individual pencils for $1.20, you secure a profit of $0.20 with no risk of loss.',\n",
       "  'What conditions indicate an arbitrage opportunity in asset trading?': \"An arbitrage opportunity in asset trading arises when the price of one asset deviates from the value dictated by the expected payouts of another asset. Specifically, if the price of asset two exceeds 1.5 times the price of asset one, there is an opportunity to short asset two and purchase asset one. Conversely, if asset two's price is less than 1.5 times asset one, the opposite trading strategy would be employed.\",\n",
       "  'How does a long short portfolio work?': 'A long short portfolio involves taking a long position in one asset while simultaneously shorting another asset, aiming to capitalize on the price discrepancy between them. This strategy allows for a net payoff of zero in terms of future exposure to market movements, meaning the investor does not stand to lose money from price fluctuations. Essentially, it creates a riskless arbitrage opportunity by pocketing immediate cash while maintaining a balanced exposure.',\n",
       "  'What are the implications of short selling for market liquidity?': 'Short selling can enhance market liquidity by increasing the number of trades and providing more opportunities for buyers and sellers to transact. It allows investors to express negative views on overvalued stocks, which helps in price discovery. However, excessive short selling can also lead to increased volatility and potential market distortions.'},\n",
       " {'What is the role of CCT in phosphatidylcholine synthesis?': 'CCT (cytidine diphosphate-choline:1,2-diacylglycerol cholinephosphotransferase) is the rate-limiting enzyme in phosphatidylcholine synthesis. It acts as a sensor for membrane phospholipid packing; when packing is low, CCT is recruited to the membrane, relieving its autoinhibition and enabling phosphatidylcholine production. This mechanism ensures that membranes maintain proper phospholipid content and fluidity.',\n",
       "  'How do lipid droplets relate to phospholipid sensing?': 'Lipid droplets are related to phospholipid sensing through the enzyme CCT, which synthesizes phosphatidylcholine (PC) and acts as a sensor for phospholipid packing defects. When there are insufficient phospholipids, CCT is recruited to the membranes, relieving its autoinhibition, which allows it to synthesize more PC and stabilize the lipid droplets. This recruitment helps ensure that lipid droplets maintain proper membrane coverage and size.',\n",
       "  'What is the relationship between fatty acid saturation and membrane fluidity?': 'Fatty acid saturation influences membrane fluidity, with saturated fatty acids leading to less fluidity due to tighter packing, while unsaturated fatty acids introduce kinks that enhance fluidity. The presence of unsaturated fatty acids allows membranes to remain more liquid at room temperature, whereas saturated fatty acids tend to solidify. Thus, the ratio of saturated to unsaturated fatty acids plays a crucial role in determining membrane properties and functionality.',\n",
       "  'How does CCT1 influence phospholipid synthesis and droplet fusion?': 'CCT1 influences phospholipid synthesis by being recruited to membranes with poor phospholipid packing, where it catalyzes the synthesis of phosphatidylcholine (PC) necessary for membrane stability. When CCT1 is depleted, it results in large lipid droplets due to spontaneous droplet fusion, as there is insufficient PC to stabilize the growing droplets. The fusion occurs to minimize the exposed surface area of hydrophobic lipids in an aqueous environment, leading to the formation of larger fused droplets.',\n",
       "  'What is the mechanism by which CCT synthesizes CD choline and phosphatidylcholine?': \"CCT (cytidine diphosphate choline) synthesizes CD choline and phosphatidylcholine by sensing low phospholipid packing in membranes, which triggers its recruitment. Upon recruitment, CCT's autoinhibition is relieved, allowing it to catalyze the conversion of CDP choline to phosphatidylcholine. This mechanism ensures that membranes maintain adequate phospholipid levels for stability and function.\",\n",
       "  'What is the role of phosphatidylcholine in lipid droplet stabilization?': 'Phosphatidylcholine (PC) plays a crucial role in stabilizing lipid droplets by coating their surface and helping to form new membrane material as droplets grow. This stabilization is essential to minimize the exposure of hydrophobic triglycerides to the aqueous environment, preventing spontaneous fusion. Without sufficient PC, the droplets risk fusing excessively, compromising their function.',\n",
       "  'What thought questions were included in the handouts?': \"The specific thought questions included in the handouts are not mentioned in the provided context. Therefore, I don't know what they are.\",\n",
       "  'How do cells sense the amount of phospholipids in membranes?': 'Cells sense the amount of phospholipids in membranes primarily through the activity of the rate-limiting enzyme CCT, which synthesizes phosphatidylcholine. This enzyme acts as a sensor by responding to the packing density of phospholipids; if packing is low, CCT is recruited to the membrane, relieving its autoinhibition and increasing phosphatidylcholine synthesis. The recruitment and activity of CCT are influenced by the structural defects caused by insufficient phospholipid packing.',\n",
       "  'How did the genetic screen by Bob Paris and Peter Walter contribute to understanding lipid droplets?': 'The genetic screen by Bob Paris and Peter Walter significantly advanced the understanding of lipid droplets by identifying various genes involved in their morphology and abundance. Conducting the screen in Drosophila S2 cells, they categorized genes that, when depleted, resulted in distinct phenotypes of lipid droplets, such as enlarged droplets. This work, which utilized RNA interference techniques, provided insights into the mechanisms regulating lipid droplet dynamics and the role of specific enzymes in their formation.',\n",
       "  'How do transmembrane proteins sense changes in lipid composition?': 'Transmembrane proteins sense changes in lipid composition through structural alterations in their transmembrane domains in response to membrane fluidity. When lipid packing is tight, these proteins undergo specific conformational changes that expose regions for processing, leading to transcription factor activation. This mechanism allows cells to regulate lipid desaturation and maintain membrane integrity based on the lipid environment.'},\n",
       " {'What is the significance of rhythmic patterns in dance music dynamics?': 'Rhythmic patterns in dance music dynamics create a foundation for movement and enhance the overall energy of the performance. They help establish a sense of timing and drive that engages listeners and dancers alike. Additionally, these patterns can evoke specific emotional responses and influence the mood of the music.',\n",
       "  'How do modern dances incorporate themes like nationalism?': 'Modern dances incorporate themes like nationalism by representing cultural practices and communal activities, such as harvesting and weaving, that resonate with national identity. Examples include the Tarunajaya, which explores youthful moods, and Sengratari, reflecting contemporary national sentiments. These dances serve as expressions of shared cultural heritage and national pride.',\n",
       "  'What are the key themes in traditional Balinese theater?': 'Key themes in traditional Balinese theater include the significance of storytelling, the interplay of duality and cyclicity, and the integration of dance, music, and text. The performance often features specific characters and historical narratives, reflecting the rich cultural heritage of Bali. Additionally, humor and social hierarchy are essential elements, with characters representing various societal roles and statuses.',\n",
       "  'What is the significance of Legong Dance in Balinese culture?': 'Legong Dance is significant in Balinese culture as it embodies traditional storytelling through movement, often portraying complex narratives involving themes of good and evil. Historically performed by young girls in trance rituals, it reflects the spiritual and cultural essence of Bali. The dance is characterized by intricate choreography and expressive gestures, linking it to the island’s religious and artistic heritage.',\n",
       "  'What is cyclical storytelling in dance?': 'Cyclical storytelling in dance refers to the idea of repeating the same narrative multiple times, often with an inconclusive ending. In some cultures, such as the Mayans, performers prefer not to complete the final battle scene, emphasizing the performative act and its impact rather than a definite conclusion. This approach allows for ongoing interpretation and change within the performance.',\n",
       "  'What are the basic dance stances and movements mentioned in the content?': 'The basic dance stances and movements mentioned include the \"Agam\" stance and \"sledet,\" which refers to eye movement. Dances may have a fixed sequence of movements called \"onsels,\" such as in the Legong dance, or have free onsels in solo male dances like Topang. The movements are described as curvaceous and close to the body, focusing on character representation through body dynamics.',\n",
       "  'What is the significance of character entrances in dance?': 'Character entrances in dance are significant as they represent the social hierarchy, with characters entering in a specific order that emphasizes their status. Additionally, the way characters pause in doorways and perform movements, such as shaking a curtain, adds dramatic effect and builds anticipation for their entry. This serves not only to highlight individual characters but also to immerse the audience in the story being told.',\n",
       "  'How does the dancer influence the interaction with the drummers in Balinese dance?': 'In Balinese dance, the dancer influences the interaction with the drummers by cuing them during the performance, determining the tempo and transitions between pieces. The dancer holds significant power in this relationship, often deciding when to signal changes, which creates a dynamic interplay. This coordination is essential for the synchronization of movement, rhythm, and overall expression of the performance.',\n",
       "  'What are the distinctions between fixed choreography and free choreography in dance?': 'Fixed choreography involves synchronized movements where all dancers perform the same steps, as seen in traditional Balinese dances like Weigong and Tarunajaya. In contrast, free choreography allows for individual expression and varied movements, leading to a more spontaneous and personal interpretation of the dance. This distinction affects how dancers and musicians interact within the performance.',\n",
       "  'What are the key characteristics of Legong Dance performances?': \"Legong Dance is characterized by its performance by three prepubescent girls and its emphasis on non-narrative representations of youth's changing moods. The dance features intricate movements with a focus on curvaceous body patterns and set sequences of onsels, all accompanied by Gamelan music. Additionally, the dancers often portray androgynous or mythical characters, adding to the cultural depth and visual appeal of the performance.\"},\n",
       " {'In what ways do dog minds differ from human minds?': 'Dog minds differ from human minds primarily in their cognitive processes and the way they represent their bodies. While both have brains that influence their thoughts, the differences arise from the specific structures and functions of those brains, leading to distinct ways of thinking. Essentially, dogs think in ways that are more instinctive and sensory-oriented compared to the more abstract and reflective thinking often associated with humans.',\n",
       "  'What does it mean for something to have a mind representing its body?': \"For something to have a mind representing its body means that the mind holds ideas that accurately reflect the physical state and actions of that body. In Spinoza's philosophy, the human mind serves as an idea of the body, thereby ensuring a perfect correspondence between thought and extension. This representation allows individuals to access and understand what is happening in their bodies through their minds.\",\n",
       "  \"What are the key concepts in Spinoza's philosophy of mind and body?\": \"Key concepts in Spinoza's philosophy of mind and body include the idea of parallelism, where the order and connection of thoughts corresponds exactly with the order and connection of physical bodies. He argues that the human mind is fundamentally an idea that represents its body, and that all bodies have corresponding minds, leading to a unified understanding of mind and body as different attributes of the same substance. Additionally, Spinoza's monism challenges Cartesian dualism by asserting that everything is part of one substance, which is God or nature, eliminating the need for interaction between separate mind and body substances.\",\n",
       "  'How does Spinoza explain the relationship between ideas and bodies?': 'Spinoza explains the relationship between ideas and bodies through the concept of parallelism, where the order and connection of ideas is the same as that of bodies. Each idea represents a specific mode of a body, indicating that the mind and body are essentially different attributes of the same substance. Thus, the mind serves as an idea representing the body, allowing for direct correspondence between thought and extension.',\n",
       "  'What are the attributes of God discussed in relation to human beings?': \"The attributes of God discussed in relation to human beings include the ability to think and the nature of extension, suggesting that humans are limited to experiencing these two attributes. Human beings are considered to have both a thinking aspect and a physical body, which aligns with Spinoza's philosophical framework. However, it remains uncertain why humans cannot access the other attributes of God, as this is not fully addressed in the text.\",\n",
       "  'How does Descartes define the relationship between minds and bodies?': 'Descartes defines the relationship between minds and bodies through a form of dualism, positing that they are two distinct substances: the mind is essentially thinking, while the body is essentially extended. He argues that although they are conceptually different, there exists a real distinction between them that allows for interaction. This interaction raises questions about how these two substances connect, but Descartes maintains that they are fundamentally separate yet interrelated.',\n",
       "  'How do human beings access different attributes according to the text?': 'Human beings have access to two attributes: thought and extension. These aspects reflect our nature as thinking beings with physical bodies. The text indicates that there are other attributes, but human beings do not access them.',\n",
       "  \"What is Spinoza's understanding of the relationship between the mind and body?\": 'Spinoza understands the relationship between the mind and body through the concept of parallelism, positing that the order and connection of ideas in the mind correspond perfectly to the order and connection of bodies in the physical world. He asserts that the human mind is essentially an idea representing a specific body, indicating a profound unity where mental and physical actions reflect one another. Consequently, every body has a corresponding mind, and this link ensures that what occurs in one domain is mirrored in the other.',\n",
       "  \"What are the implications of God having an infinite intellect in Spinoza's philosophy?\": \"In Spinoza's philosophy, the implication of God having an infinite intellect means that all ideas emanate from God's nature and are perfectly true, reflecting reality accurately. This results in a perfect correspondence between the order of ideas and the causal order of the physical world, emphasizing the parallelism between mind and body. Moreover, it suggests that God's intellect encompasses an infinite range of ideas, reinforcing the unity of substance in Spinoza's thought.\",\n",
       "  \"What is Spinoza's view on causation in relation to attributes?\": 'Spinoza views causation as being inherently linked to attributes, asserting that causation operates strictly within the framework of these attributes. Each attribute, such as thought or extension, represents a different perspective of a single substance, and causation can only be understood within those specific attributes. Therefore, when discussing causation, one must always consider it in relation to the attributes that define it, as there can be no independent understanding of causation outside of these attributes.'},\n",
       " {'How does acceleration affect projectile motion equations?': \"Acceleration plays a crucial role in projectile motion equations, primarily affecting the vertical motion of the projectile. The constant acceleration due to gravity modifies the vertical component of the projectile's velocity and position over time. In contrast, the horizontal motion remains unaffected by vertical acceleration, typically assuming constant velocity.\",\n",
       "  'How does the direction of the acceleration vector relate to the motion of a particle?': 'The direction of the acceleration vector indicates whether a particle is speeding up or slowing down. If the acceleration vector points in the same direction as the velocity vector, the particle speeds up; if they point in opposite directions, the particle slows down. Additionally, the acceleration vector can change with the motion of the particle, especially during curved or non-uniform motion.',\n",
       "  'What are the implications of having no z component in motion?': \"Having no z component in motion implies that all movement is confined to a two-dimensional plane, affecting the analysis of velocity and acceleration. This means that the object's trajectory and any forces acting upon it can be described solely using the x and y dimensions. Consequently, any calculations involving motion can simplify, as the z dimension does not need to be considered.\",\n",
       "  'What is the significance of unit vectors in vector representation?': 'Unit vectors are essential in vector representation because they provide a standardized way to express direction without concern for magnitude. They simplify vector calculations, especially in decomposing vectors into their components along specific axes. Additionally, unit vectors facilitate the understanding of space and orientation in various applications, such as physics and engineering.',\n",
       "  'What is a position vector in XY coordinates?': \"A position vector in XY coordinates is defined as a vector that runs from the origin to the location of a particle at a specific moment in time. It can be expressed in terms of its components, representing the x and y coordinates of the particle's position. As the particle moves, this position vector changes over time.\",\n",
       "  'What is the definition of projectile motion?': 'Projectile motion is defined as motion that occurs when an object moves in a curved trajectory under the influence of gravity, typically involving both horizontal and vertical components. It differs from free fall motion, which is strictly vertical. In summary, projectile motion combines horizontal movement with the effects of gravity.',\n",
       "  'What is the definition of average velocity?': 'Average velocity is defined as the total displacement divided by the total time taken over a specific interval. It represents the overall change in position of an object during that interval, regardless of the path taken. Essentially, if an object starts and ends at the same point, the average velocity can be zero even if the object moves during the time interval.',\n",
       "  'How do you break vectors into components?': 'To break vectors into components, first identify the direction and orientation of the vector within a coordinate system. Use trigonometric functions—specifically, the cosine for the x-component and the sine for the y-component—based on the angle the vector makes with the axes. The vector can then be expressed as the sum of its x and y components, typically represented as \\\\( \\\\vec{a} = a_x \\\\hat{i} + a_y \\\\hat{j} \\\\).',\n",
       "  'How do the initial and final position vectors relate to displacement?': 'The initial position vector \\\\( \\\\mathbf{r_i} \\\\) and the final position vector \\\\( \\\\mathbf{r_f} \\\\) relate to displacement through the displacement vector \\\\( \\\\Delta \\\\mathbf{r} \\\\), which is defined as the difference between the final and initial position vectors (\\\\( \\\\Delta \\\\mathbf{r} = \\\\mathbf{r_f} - \\\\mathbf{r_i} \\\\)). This displacement vector represents the change in position of the particle from the initial to the final state. Essentially, \\\\( \\\\Delta \\\\mathbf{r} \\\\) indicates the straight-line path and direction from the initial position to the final position.',\n",
       "  'What are the equations of motion for projectiles in y motion?': 'The equations of motion for projectile motion in the y direction are similar to those of free fall motion. They include equations that account for constant acceleration, typically represented as \\\\( y = v_{0y}t + \\\\frac{1}{2}at^2 \\\\) for displacement and \\\\( v_y = v_{0y} + at \\\\) for velocity, where \\\\( v_{0y} \\\\) is the initial vertical velocity and \\\\( a \\\\) is the acceleration due to gravity. This reflects the uniform acceleration experienced by projectiles in the vertical direction.'},\n",
       " {'What is the probability of getting at least one head in two tosses of a fair coin?': 'The probability of getting at least one head in two tosses of a fair coin is 3/4. This is calculated by considering the possible outcomes: {HH, HT, TH, TT}, which includes three outcomes with at least one head. Alternatively, it can be found by calculating the complement (no heads) and subtracting from 1, resulting in P(A) = 1 - P(AC) = 1 - 1/4 = 3/4.',\n",
       "  'What is the definition of mutually exclusive events?': 'Mutually exclusive events are defined as events that do not overlap and have no outcomes in common. If one of the mutually exclusive events occurs, the other cannot occur at the same time. In probability terms, this is represented as A ∩ B = ∅, meaning the intersection of the two events is empty.',\n",
       "  'How is the outcome space defined in probability?': 'The outcome space in probability is defined as the set of all possible outcomes of an experiment, denoted by the upper case Greek letter \"Ω\" (Omega). For example, in a coin toss, the outcome space is {Heads, Tails}, and in rolling a six-sided die, it is {1, 2, 3, 4, 5, 6}. This collection of outcomes is fundamental for determining the probabilities of various events derived from the experiment.',\n",
       "  \"What does 'die' and 'dice' refer to in probability?\": 'In probability, \"die\" refers to a single six-sided cube used in games of chance, while \"dice\" is the plural form. When discussing outcomes, both terms are associated with the likelihood of specific results when rolled. Typically, a fair six-sided die has an equal probability of landing on any of its six faces.',\n",
       "  'How do you depict the intersection and union of events in a Venn diagram?': 'In a Venn diagram, events are represented as circles within a rectangle that denotes the outcome space. The intersection of events is shown by the overlapping area of the circles, while the union is represented by the combined area of both circles, including the intersection.',\n",
       "  'What are the differences between using to and length arguments in the seq() function?': 'The `to` argument in the `seq()` function specifies the end value of the sequence, while the `length` argument determines the total number of elements in the sequence. Both can produce similar sequences, but they achieve this through different means: one by defining the endpoint and the other by defining the sequence length. For example, `seq(from = 1, to = 9, by = 2)` results in a sequence ending at 9, while `seq(from = 1, length = 5, by = 2)` creates a sequence with 5 elements.',\n",
       "  'What are equally likely outcomes and how are they determined?': 'Equally likely outcomes refer to scenarios in a finite outcome space where each possible outcome has the same probability of occurring. This is determined by ensuring that the outcomes are uniformly distributed, such as in a fair coin toss or a fair die roll. In these instances, the probability of each outcome can be calculated as 1 divided by the total number of outcomes.',\n",
       "  'What is the significance of Nate Silver in the context of polling?': \"Nate Silver is significant in polling for his development of innovative statistical models that provide accurate forecasts, particularly in political elections. He gained prominence through his website, FiveThirtyEight, which emphasizes data-driven analysis and transparency in polling. Silver's methodologies have helped raise awareness of the importance of statistical literacy in understanding electoral outcomes.\",\n",
       "  'How did De Méré calculate the probabilities for rolling dice?': 'De Méré calculated the probability of rolling at least one six in four rolls of a fair die as 2/3, based on the formula 4 × (1/6) = 4/6. For betting on at least one double six in twenty-four rolls, he assumed the probabilities were the same and also computed it as 2/3. However, these calculations were incorrect, and further simulations showed different probabilities.',\n",
       "  'How does set.seed() affect random number generation in R?': 'The `set.seed()` function in R initializes the random number generator to a specific state determined by the seed number you provide. This means that each time you use the same seed, R will produce the same sequence of random numbers, which aids in debugging and ensures reproducibility. Essentially, it allows for consistent results across multiple runs of your code.'}]"
      ]
     },
     "execution_count": 44,
     "metadata": {},
     "output_type": "execute_result"
    }
   ],
   "source": [
    "responses"
   ]
  },
  {
   "cell_type": "code",
   "execution_count": 50,
   "id": "07e7392e",
   "metadata": {},
   "outputs": [],
   "source": [
    "questions = []\n",
    "answers = []\n",
    "for response in responses:\n",
    "    questions.extend(list(response.keys()))\n",
    "    answers.extend(list(response.values()))"
   ]
  },
  {
   "cell_type": "code",
   "execution_count": 53,
   "id": "dea68593",
   "metadata": {},
   "outputs": [],
   "source": [
    "import pandas as pd\n",
    "data = {\n",
    "    \"Question\": questions,\n",
    "    \"LLM Answer\": answers\n",
    "}\n",
    "df = pd.DataFrame(data)"
   ]
  },
  {
   "cell_type": "code",
   "execution_count": 54,
   "id": "7e9fc852",
   "metadata": {},
   "outputs": [
    {
     "data": {
      "text/html": [
       "<div>\n",
       "<style scoped>\n",
       "    .dataframe tbody tr th:only-of-type {\n",
       "        vertical-align: middle;\n",
       "    }\n",
       "\n",
       "    .dataframe tbody tr th {\n",
       "        vertical-align: top;\n",
       "    }\n",
       "\n",
       "    .dataframe thead th {\n",
       "        text-align: right;\n",
       "    }\n",
       "</style>\n",
       "<table border=\"1\" class=\"dataframe\">\n",
       "  <thead>\n",
       "    <tr style=\"text-align: right;\">\n",
       "      <th></th>\n",
       "      <th>Question</th>\n",
       "      <th>LLM Answer</th>\n",
       "    </tr>\n",
       "  </thead>\n",
       "  <tbody>\n",
       "    <tr>\n",
       "      <th>0</th>\n",
       "      <td>How are optical fibers laid underwater?</td>\n",
       "      <td>Optical fibers are laid underwater using speci...</td>\n",
       "    </tr>\n",
       "    <tr>\n",
       "      <th>1</th>\n",
       "      <td>What are loops in network routing?</td>\n",
       "      <td>Loops in network routing refer to situations w...</td>\n",
       "    </tr>\n",
       "    <tr>\n",
       "      <th>2</th>\n",
       "      <td>How do participants determine their magic numb...</td>\n",
       "      <td>Participants determine their magic number by s...</td>\n",
       "    </tr>\n",
       "    <tr>\n",
       "      <th>3</th>\n",
       "      <td>What is the role of routers in managing networ...</td>\n",
       "      <td>Routers manage network bandwidth by acting as ...</td>\n",
       "    </tr>\n",
       "    <tr>\n",
       "      <th>4</th>\n",
       "      <td>What is the role of a router?</td>\n",
       "      <td>The role of a router is to act as an intermedi...</td>\n",
       "    </tr>\n",
       "  </tbody>\n",
       "</table>\n",
       "</div>"
      ],
      "text/plain": [
       "                                            Question  \\\n",
       "0            How are optical fibers laid underwater?   \n",
       "1                 What are loops in network routing?   \n",
       "2  How do participants determine their magic numb...   \n",
       "3  What is the role of routers in managing networ...   \n",
       "4                      What is the role of a router?   \n",
       "\n",
       "                                          LLM Answer  \n",
       "0  Optical fibers are laid underwater using speci...  \n",
       "1  Loops in network routing refer to situations w...  \n",
       "2  Participants determine their magic number by s...  \n",
       "3  Routers manage network bandwidth by acting as ...  \n",
       "4  The role of a router is to act as an intermedi...  "
      ]
     },
     "execution_count": 54,
     "metadata": {},
     "output_type": "execute_result"
    }
   ],
   "source": [
    "df.head()"
   ]
  },
  {
   "cell_type": "code",
   "execution_count": 56,
   "id": "45d4151a",
   "metadata": {},
   "outputs": [],
   "source": [
    "df.to_excel(\"results.xlsx\")"
   ]
  },
  {
   "cell_type": "code",
   "execution_count": null,
   "id": "2683afb7",
   "metadata": {},
   "outputs": [],
   "source": []
  }
 ],
 "metadata": {
  "kernelspec": {
   "display_name": "virtual_env",
   "language": "python",
   "name": "python3"
  },
  "language_info": {
   "codemirror_mode": {
    "name": "ipython",
    "version": 3
   },
   "file_extension": ".py",
   "mimetype": "text/x-python",
   "name": "python",
   "nbconvert_exporter": "python",
   "pygments_lexer": "ipython3",
   "version": "3.9.13"
  }
 },
 "nbformat": 4,
 "nbformat_minor": 5
}
