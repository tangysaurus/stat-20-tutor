{
 "cells": [
  {
   "cell_type": "code",
   "execution_count": null,
   "id": "51e29eb9",
   "metadata": {},
   "outputs": [
    {
     "name": "stdout",
     "output_type": "stream",
     "text": [
      "Creating KB with id transcript...\n"
     ]
    }
   ],
   "source": [
    "from dotenv import load_dotenv\n",
    "import os\n",
    "from create_kb import create_kb_from_file\n",
    "\n",
    "load_dotenv()\n",
    "\n",
    "# create knowledge base from transcript\n",
    "file_path = \"transcript.txt\"\n",
    "kb_id = \"transcript\"\n",
    "kb = create_kb_from_file(kb_id, file_path)"
   ]
  },
  {
   "cell_type": "code",
   "execution_count": null,
   "id": "ca28c2e1",
   "metadata": {},
   "outputs": [
    {
     "name": "stdout",
     "output_type": "stream",
     "text": [
      "{'doc_id': 'transcript.txt', 'chunk_start': 33, 'chunk_end': 34, 'score': np.float64(0.7608883353327122), 'content': \"Document context: the following excerpt is from a document titled 'Introducing Probability'. This document is about: the fundamentals of probability theory, including definitions, axioms, and examples, aimed at helping readers understand uncertainty and randomness in data analysis.\\n\\nFootnotes \\n1. Paper is at \\nhttps://www.astro.sunysb.edu/fwalter/AST248/why_i_dont_have_a_girlfriend.pdf and a talk by Backus at https://www.youtube.com/watch?v=ClPPSry8bBw ↩︎ 2.\\nhttps://berkeleytime.com/grades/0-7077-all-all&1-7077-fall-2022-all ↩︎ 3. https://www.freep.com/betting/sports/nfl-49ers-vs-chiefs-odds-moneylines spreads-totals-best-nfl-odds-this-week ↩︎\\n4. https://www.thelines.com/odds/election/ ↩︎ \\n5. This website was begun as poll aggregation site, by the statistician Nate Silver. ↩︎ 6. The singular is die and the plural is dice. If we use the word “die” without any qualifiers, we will mean a\\nfair, six-sided die. ↩︎\\n7. We call the tickets equally likely when each ticket has the same chance of being n 1/n\\ndrawn. That is, if there are tickets in the box, each has a chance of to be drawn. We also refer to this as drawing a ticket uniformly at random, because the chance of drawing the tickets are the\\nsame, or uniform. ↩︎\\n8. Photo via unsplash.com ↩︎ \\nThis site is hosted by Netlify. License\", 'segment_page_start': None, 'segment_page_end': None, 'chunk_page_start': None, 'chunk_page_end': None, 'text': \"Document context: the following excerpt is from a document titled 'Introducing Probability'. This document is about: the fundamentals of probability theory, including definitions, axioms, and examples, aimed at helping readers understand uncertainty and randomness in data analysis.\\n\\nFootnotes \\n1. Paper is at \\nhttps://www.astro.sunysb.edu/fwalter/AST248/why_i_dont_have_a_girlfriend.pdf and a talk by Backus at https://www.youtube.com/watch?v=ClPPSry8bBw ↩︎ 2.\\nhttps://berkeleytime.com/grades/0-7077-all-all&1-7077-fall-2022-all ↩︎ 3. https://www.freep.com/betting/sports/nfl-49ers-vs-chiefs-odds-moneylines spreads-totals-best-nfl-odds-this-week ↩︎\\n4. https://www.thelines.com/odds/election/ ↩︎ \\n5. This website was begun as poll aggregation site, by the statistician Nate Silver. ↩︎ 6. The singular is die and the plural is dice. If we use the word “die” without any qualifiers, we will mean a\\nfair, six-sided die. ↩︎\\n7. We call the tickets equally likely when each ticket has the same chance of being n 1/n\\ndrawn. That is, if there are tickets in the box, each has a chance of to be drawn. We also refer to this as drawing a ticket uniformly at random, because the chance of drawing the tickets are the\\nsame, or uniform. ↩︎\\n8. Photo via unsplash.com ↩︎ \\nThis site is hosted by Netlify. License\"}\n"
     ]
    }
   ],
   "source": [
    "# perform queries\n",
    "search_queries = [\"Poll aggregation site\"]\n",
    "results = kb.query(search_queries)\n",
    "# return relevant segments\n",
    "for segment in results:\n",
    "    print(segment)"
   ]
  },
  {
   "cell_type": "code",
   "execution_count": null,
   "id": "8525735f",
   "metadata": {},
   "outputs": [
    {
     "data": {
      "text/plain": [
       "\"Document context: the following excerpt is from a document titled 'Introducing Probability'. This document is about: the fundamentals of probability theory, including definitions, axioms, and examples, aimed at helping readers understand uncertainty and randomness in data analysis.\""
      ]
     },
     "execution_count": 122,
     "metadata": {},
     "output_type": "execute_result"
    }
   ],
   "source": [
    "# retrieve segment header\n",
    "kb._get_segment_header(file_path,9)"
   ]
  },
  {
   "cell_type": "code",
   "execution_count": null,
   "id": "4890708c",
   "metadata": {},
   "outputs": [],
   "source": [
    "# store all chunks\n",
    "idx = 0\n",
    "chunks = []\n",
    "while True:\n",
    "    text = kb._get_chunk_text(file_path, idx)\n",
    "    if text is None:        # no more chunks at this index\n",
    "        break\n",
    "    chunks.append(text)\n",
    "    idx += 1"
   ]
  },
  {
   "cell_type": "code",
   "execution_count": null,
   "id": "901c6cdb",
   "metadata": {},
   "outputs": [
    {
     "data": {
      "text/plain": [
       "'SYLLABUS OFFICE HOURS NOTES ASSIGNMENTS   \\nIntroducing Probability \\nDefinitions, axioms, and examples \\nWelcome to Unit II: Probability \\nI \\nn an enormously entertaining paper written about a decade ago, the economist Peter Backus estimated his chance of finding a girlfriend on any given night in London at about 1 in 285,000 or\\n0.0000034%. As he writes, this is either depressing or cheering news for a person,\\ndepending on what you had estimated your chance to be before reading 1 \\nthe paper and doing a similar computation for yourself. The interesting point in the paper was using a probabilistic argument (originally developed by the astronomer and astrophysicist Frank Drake to'"
      ]
     },
     "execution_count": 114,
     "metadata": {},
     "output_type": "execute_result"
    }
   ],
   "source": [
    "# retrieve chunk content\n",
    "chunks[0]"
   ]
  }
 ],
 "metadata": {
  "kernelspec": {
   "display_name": "virtual_env",
   "language": "python",
   "name": "python3"
  },
  "language_info": {
   "codemirror_mode": {
    "name": "ipython",
    "version": 3
   },
   "file_extension": ".py",
   "mimetype": "text/x-python",
   "name": "python",
   "nbconvert_exporter": "python",
   "pygments_lexer": "ipython3",
   "version": "3.9.13"
  }
 },
 "nbformat": 4,
 "nbformat_minor": 5
}
