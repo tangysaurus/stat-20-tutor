{
 "cells": [
  {
   "cell_type": "code",
   "execution_count": 1,
   "id": "b969a1f8",
   "metadata": {},
   "outputs": [],
   "source": [
    "import os\n",
    "import requests\n",
    "import re\n",
    "from dotenv import load_dotenv\n",
    "from tutor import KnowledgeGraph\n",
    "from langchain.embeddings import OpenAIEmbeddings\n",
    "from bs4 import BeautifulSoup\n",
    "from langchain_core.documents import Document\n",
    "from langchain_openai import ChatOpenAI\n",
    "from tools import wolfram"
   ]
  },
  {
   "cell_type": "code",
   "execution_count": 2,
   "id": "eefdc131",
   "metadata": {},
   "outputs": [],
   "source": [
    "load_dotenv()\n",
    "NEO_PASSWORD = os.getenv(\"NEO_PASSWORD\")\n",
    "NEO_URI = os.getenv(\"NEO_URI\")\n",
    "NEO_USERNAME = os.getenv(\"NEO_USERNAME\")"
   ]
  },
  {
   "cell_type": "code",
   "execution_count": 3,
   "id": "10ee9121",
   "metadata": {},
   "outputs": [
    {
     "name": "stderr",
     "output_type": "stream",
     "text": [
      "c:\\Users\\Kaden\\OneDrive\\Professional\\Athena\\Note Creation\\Knowledge Graph\\src\\app\\tutor.py:74: LangChainDeprecationWarning: The class `Neo4jGraph` was deprecated in LangChain 0.3.8 and will be removed in 1.0. An updated version of the class exists in the :class:`~langchain-neo4j package and should be used instead. To use it run `pip install -U :class:`~langchain-neo4j` and import as `from :class:`~langchain_neo4j import Neo4jGraph``.\n",
      "  self.graph = Neo4jGraph(\n"
     ]
    }
   ],
   "source": [
    "knowledge_graph = KnowledgeGraph(NEO_URI, NEO_USERNAME, NEO_PASSWORD)"
   ]
  },
  {
   "cell_type": "code",
   "execution_count": 4,
   "id": "2aff2c2f",
   "metadata": {},
   "outputs": [],
   "source": [
    "llm = ChatOpenAI(\n",
    "    model=\"gpt-5\",\n",
    "    temperature=0,\n",
    "    max_tokens=None,\n",
    "    timeout=None,\n",
    "    max_retries=2,\n",
    ")"
   ]
  },
  {
   "cell_type": "code",
   "execution_count": 5,
   "id": "1ec1f89b",
   "metadata": {},
   "outputs": [],
   "source": [
    "llm_with_tools = llm.bind_tools([wolfram])"
   ]
  },
  {
   "cell_type": "code",
   "execution_count": 6,
   "id": "e9e102fd",
   "metadata": {},
   "outputs": [
    {
     "data": {
      "text/plain": [
       "RunnableBinding(bound=ChatOpenAI(client=<openai.resources.chat.completions.completions.Completions object at 0x000002219AFA8D90>, async_client=<openai.resources.chat.completions.completions.AsyncCompletions object at 0x00000221AD02C070>, root_client=<openai.OpenAI object at 0x000002219AFA8B50>, root_async_client=<openai.AsyncOpenAI object at 0x00000221AD02C2E0>, model_name='gpt-5', model_kwargs={}, openai_api_key=SecretStr('**********'), max_retries=2), kwargs={'tools': [{'type': 'function', 'function': {'name': 'wolfram', 'description': 'Queries Wolframalpha API to get information on math and science topics', 'parameters': {'properties': {'query': {'type': 'string'}}, 'required': ['query'], 'type': 'object'}}}]}, config={}, config_factories=[])"
      ]
     },
     "execution_count": 6,
     "metadata": {},
     "output_type": "execute_result"
    }
   ],
   "source": [
    "llm_with_tools"
   ]
  },
  {
   "cell_type": "code",
   "execution_count": 7,
   "id": "8802af07",
   "metadata": {},
   "outputs": [
    {
     "name": "stderr",
     "output_type": "stream",
     "text": [
      "C:\\Users\\Kaden\\AppData\\Local\\Temp\\ipykernel_17612\\2845786025.py:1: LangChainDeprecationWarning: The class `OpenAIEmbeddings` was deprecated in LangChain 0.0.9 and will be removed in 1.0. An updated version of the class exists in the :class:`~langchain-openai package and should be used instead. To use it run `pip install -U :class:`~langchain-openai` and import as `from :class:`~langchain_openai import OpenAIEmbeddings``.\n",
      "  embeddings = OpenAIEmbeddings()\n"
     ]
    }
   ],
   "source": [
    "embeddings = OpenAIEmbeddings()\n",
    "vector_index = knowledge_graph.create_vector_index(embeddings)\n",
    "entity_chain = knowledge_graph.create_entity_chain(llm_with_tools)"
   ]
  },
  {
   "cell_type": "code",
   "execution_count": 8,
   "id": "fcfa3758",
   "metadata": {},
   "outputs": [],
   "source": [
    "def conversation():\n",
    "    question = input(\"Ask a question about Stat 20 (type 'q' to exit): \")\n",
    "    print(f\"Question: {question}\")\n",
    "    if question.lower() != \"q\":\n",
    "        response = knowledge_graph.ask_query(llm_with_tools, vector_index, entity_chain, question)\n",
    "        print(f\"Response: {response}\")\n",
    "        conversation()"
   ]
  },
  {
   "cell_type": "code",
   "execution_count": 14,
   "id": "1378acc6",
   "metadata": {},
   "outputs": [
    {
     "data": {
      "text/plain": [
       "\"{'Input': 'normal distribution | mean | μ\\\\nstandard deviation | σ (positive)', 'Statistical properties': 'mean | μ\\\\nmode | μ\\\\nstandard deviation | σ\\\\nvariance | σ^2\\\\nskewness | 0', 'Probability density function (PDF)': 'e^(-(x - μ)^2/(2 σ^2))/(sqrt(2 π) σ)', 'Cumulative distribution function (CDF)': 'P (X<=x) = 1/2 erfc((μ - x)/(sqrt(2) σ))', 'Percentiles': '10th | μ - 1.28155 σ\\\\n25th | μ - 0.67449 σ\\\\n50th | μ\\\\n75th | μ + 0.67449 σ\\\\n90th | μ + 1.28155 σ'}\""
      ]
     },
     "execution_count": 14,
     "metadata": {},
     "output_type": "execute_result"
    }
   ],
   "source": [
    "wolfram.invoke({'query': 'normal distribution'})"
   ]
  },
  {
   "cell_type": "code",
   "execution_count": 9,
   "id": "96cfa32a",
   "metadata": {},
   "outputs": [
    {
     "name": "stdout",
     "output_type": "stream",
     "text": [
      "Question: What is the central limit theorem?\n"
     ]
    },
    {
     "name": "stderr",
     "output_type": "stream",
     "text": [
      "c:\\Users\\Kaden\\OneDrive\\Professional\\Athena\\Note Creation\\Knowledge Graph\\src\\app\\tutor.py:199: LangChainDeprecationWarning: The function `remove_lucene_chars` was deprecated in LangChain 0.3.8 and will be removed in 1.0. An updated version of the function exists in the :meth:`~langchain-neo4j package and should be used instead. To use it run `pip install -U :meth:`~langchain-neo4j` and import as `from :meth:`~langchain_neo4j.vectorstores.neo4j_vector import remove_lucene_chars``.\n",
      "  words = [el for el in remove_lucene_chars(input).split() if el]\n",
      "Received notification from DBMS server: {severity: WARNING} {code: Neo.ClientNotification.Statement.FeatureDeprecationWarning} {category: DEPRECATION} {title: This feature is deprecated and will be removed in future versions.} {description: CALL subquery without a variable scope clause is now deprecated. Use CALL (node, node) { ... }} {position: line: 4, column: 17, offset: 131} for query: \"\\n                CALL db.index.fulltext.queryNodes('entity', $query, {limit: 2})\\n                YIELD node, score\\n                CALL {\\n                    WITH node\\n                    MATCH (node)-[r]->(neighbor)\\n                    WHERE type(r) <> 'MENTIONS'\\n                    RETURN node.id + ' - ' + type(r) + ' -> ' + neighbor.id AS output\\n                    UNION\\n                    WITH node\\n                    MATCH (node)<-[r]-(neighbor)\\n                    WHERE type(r) <> 'MENTIONS'\\n                    RETURN neighbor.id + ' - ' + type(r) + ' -> ' + node.id AS output\\n                }\\n                RETURN DISTINCT output\\n                LIMIT 50\\n                \"\n",
      "Received notification from DBMS server: {severity: WARNING} {code: Neo.ClientNotification.Statement.FeatureDeprecationWarning} {category: DEPRECATION} {title: This feature is deprecated and will be removed in future versions.} {description: CALL subquery without a variable scope clause is now deprecated. Use CALL () { ... }} {position: line: 1, column: 1, offset: 0} for query: \"CALL { CALL db.index.vector.queryNodes($index, $k, $embedding) YIELD node, score WITH collect({node:node, score:score}) AS nodes, max(score) AS max UNWIND nodes AS n RETURN n.node AS node, (n.score / max) AS score UNION CALL db.index.fulltext.queryNodes($keyword_index, $query, {limit: $k}) YIELD node, score WITH collect({node:node, score:score}) AS nodes, max(score) AS max UNWIND nodes AS n RETURN n.node AS node, (n.score / max) AS score } WITH node, max(score) AS score ORDER BY score DESC LIMIT $k RETURN reduce(str='', k IN ['text'] | str + '\\\\n' + k + ': ' + coalesce(node[k], '')) AS text, node {.*, `embedding`: Null, id: Null, `text`: Null} AS metadata, score\"\n"
     ]
    },
    {
     "name": "stdout",
     "output_type": "stream",
     "text": [
      "Tool call: {'name': 'wolfram', 'args': {'query': 'central limit theorem'}, 'id': 'call_gXEGWlq9iOmZC7fuoNla373A', 'type': 'tool_call'}\n",
      "Tool response: content=\"{'Input interpretation': 'central limit theorem', 'Alternate name': 'limit theorem', 'Basic definition': 'The central limit theorem states that any set of variates with a distribution having a finite mean and variance tends to the normal distribution. This allows statisticians to approximate sets of data with unknown distributions as being normal.', 'Detailed definition': 'Let X_1, X_2, ..., X_N be a set of N independent random variates and each X_i have an arbitrary probability distribution P(x_1, ..., x_N) with mean μ_i and a finite variance σ_i^2. Then the normal form variate\\\\nX_norm congruent ( sum_(i = 1)^N x_i - sum_(i = 1)^N μ_i)/sqrt( sum_(i = 1)^N σ_i^2)\\\\nhas a limiting cumulative distribution function which approaches a normal distribution.\\\\nUnder additional conditions on the distribution of the addend, the probability density itself is also normal with mean μ = 0 and variance σ^2 = 1.', 'Related terms': 'Berry-Esséen theorem | Lindeberg condition | Lindeberg-Feller central limit theorem | Lyapunov condition', 'Educational grade level': 'college level (AP statistics, California probability and statistics standard)', 'Subject classifications': ['limit theorems', '60Exx | 62Exx']}\" name='wolfram' tool_call_id='call_gXEGWlq9iOmZC7fuoNla373A'\n",
      "Response: Central limit theorem (CLT): If you take many independent observations from any distribution with a finite mean and variance, then the distribution of their standardized sum—or the sample mean—becomes approximately normal as the sample size gets large. This is why we can use normal-based methods (like standard errors, confidence intervals, and z-tests) for averages even when the original data aren’t normal.\n",
      "\n",
      "Want a quick intuition or an example (e.g., averaging penguin bill lengths across many samples)?\n",
      "Question: q\n"
     ]
    }
   ],
   "source": [
    "conversation()"
   ]
  }
 ],
 "metadata": {
  "kernelspec": {
   "display_name": "virtual_env (3.9.13)",
   "language": "python",
   "name": "python3"
  },
  "language_info": {
   "codemirror_mode": {
    "name": "ipython",
    "version": 3
   },
   "file_extension": ".py",
   "mimetype": "text/x-python",
   "name": "python",
   "nbconvert_exporter": "python",
   "pygments_lexer": "ipython3",
   "version": "3.9.13"
  }
 },
 "nbformat": 4,
 "nbformat_minor": 5
}
